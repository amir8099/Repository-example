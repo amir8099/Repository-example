{
 "cells": [
  {
   "cell_type": "markdown",
   "metadata": {},
   "source": [
    "#                                      CAPSTONE PROJECT: Battle of Neighborhoods\n",
    "##            **FINDING A LOCATION IN SAN DIEGO TO OPEN A COFFEE SHOP**\n",
    "### By: Amir Asadi\n",
    "### \n",
    "### "
   ]
  },
  {
   "cell_type": "markdown",
   "metadata": {},
   "source": [
    "#### **1. OVERVIEW AND OBJECTIVES**\n",
    " The **main goal** of this project is to find the best location to open a new coffee shop in the city of San Diego. San Diego has an estimated population of 1,423,851 as of July 1, 2017 (United States Census Bureau).  By 2030, the City's population is forecast to be 1.69 million. With its pleasant climate and a growing sector focused on arts and culture, San Diego is one of top visitor and convention destinations  in the world attracting more than 35 million tourists each year. It is predicted that the number of visitors to San Diego will grow roughly 2% each year for the next five years, and their spending will grow 3.9% each year (see San Diego Tourism Authority, 2019). Therefore, it is doomed that bars, restaurants and coffee shops will constantly grow. The **specific objective** of this project ts to answer this question: \"Where should one open a new coffee shop in San Diego considering the number and rating of the coffee shops in the intended area?\" _Note_ that this project will offer the potential locations without considering the associated costs such as real estate, development, etc. "
   ]
  },
  {
   "cell_type": "markdown",
   "metadata": {},
   "source": [
    "#### **2. DATA**\n",
    "To meet the obejective, we need the data containing neighborhoods, boroughs and their geographical locations in Sad Diego. These data will be obtained from the following source.\n",
    "  https://data.sandiego.gov/datasets/pd-neighborhoods/\n",
    "\n",
    "Data related to locations and ratings of of coffee shops in San Diego will be acquired via the FourSquare API utilized via the Request library in Python.\n"
   ]
  },
  {
   "cell_type": "markdown",
   "metadata": {},
   "source": [
    "#### **3. METGODOLOGY**\n",
    "1. The data from https://data.sandiego.gov/datasets/pd-neighborhoods/ (nested Python dictionary) will be cleaned and transformed to a pandas dataframe. \n",
    "2. We will utalize Foursquare API to explore the neighborhoods and segment them, obtain their latitude and longitude values, locate all nearby venues, to filter coffee shops, and extract their ratings. These rating will be stored into the dataframe created in step 1.\n",
    "3. The neighborhoods will be clustered by KMeans method.\n",
    "4. We will examine the clusters to distinguish each cluster by the coffee shops ratings.\n",
    "5. The data will be visualized using Python libraries."
   ]
  },
  {
   "cell_type": "code",
   "execution_count": null,
   "metadata": {},
   "outputs": [],
   "source": []
  }
 ],
 "metadata": {
  "kernelspec": {
   "display_name": "Python",
   "language": "python",
   "name": "conda-env-python-py"
  },
  "language_info": {
   "codemirror_mode": {
    "name": "ipython",
    "version": 3
   },
   "file_extension": ".py",
   "mimetype": "text/x-python",
   "name": "python",
   "nbconvert_exporter": "python",
   "pygments_lexer": "ipython3",
   "version": "3.6.10"
  }
 },
 "nbformat": 4,
 "nbformat_minor": 4
}
